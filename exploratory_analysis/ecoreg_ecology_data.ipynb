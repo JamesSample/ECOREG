{
 "cells": [
  {
   "cell_type": "code",
   "execution_count": 3,
   "metadata": {
    "collapsed": true
   },
   "outputs": [],
   "source": [
    "%matplotlib inline\n",
    "import matplotlib.pyplot as plt, seaborn as sn, mpld3\n",
    "import pandas as pd, os, glob\n",
    "sn.set_context('notebook')"
   ]
  },
  {
   "cell_type": "markdown",
   "metadata": {},
   "source": [
    "# ECOREG\n",
    "## Ecology data processing\n",
    "\n",
    "### 1. Macroinvertebrate data\n",
    "\n",
    "Jannicke has used [ASTERICS](http://www.asterics.de/en/download/berechnung/) to calculate a variety of ecological indices for the German and Norwegian sites. Her output files (the ones with *metrics* in the file names) are here:\n",
    "\n",
    "K:\\Avdeling\\311 Biologisk mangfold - ferskvann ny\\SSC\\ECOREG\\data_JMO\n",
    "\n",
    "(See Jannicke's e-mail from 12/05/2016 at 09:45 for more details).\n",
    "\n",
    "I've made copies of these files locally, and slightly modified the metrics columns in each to remove leading whitepace(s) and to make sure that all the metric names are the same. This notebook reads and restructures the files for use with the discharge data (as processed [here](http://nbviewer.jupyter.org/github/JamesSample/ECOREG/blob/master/ecoreg_flow_data.ipynb))."
   ]
  },
  {
   "cell_type": "code",
   "execution_count": 34,
   "metadata": {
    "collapsed": false
   },
   "outputs": [
    {
     "name": "stdout",
     "output_type": "stream",
     "text": [
      "True\n"
     ]
    }
   ],
   "source": [
    "# Paths to Jannicke's files\n",
    "nor_xlsx = (r'\\\\niva-of5\\osl-userdata$\\JES\\Documents\\James_Work'\n",
    "             '\\Staff\\Susi_S\\ECOREG\\Raw_Data\\Norway\\NO_MI_metrics_20151216.xlsx')\n",
    "ger_xlsx = (r'\\\\niva-of5\\osl-userdata$\\JES\\Documents\\James_Work'\n",
    "             '\\Staff\\Susi_S\\ECOREG\\Raw_Data\\Germany\\DE_MI_metrics_20160502.xlsx')\n",
    "\n",
    "# Read data, dropping blank rows\n",
    "# Norway\n",
    "ndf = pd.read_excel(nor_xlsx, sheetname='Asterics4 metrics', na_values=[' ',])\n",
    "ndf.dropna(how='all', inplace=True)\n",
    "ndf.reset_index(inplace=True, drop=True)\n",
    "\n",
    "# Germany\n",
    "gdf = pd.read_excel(ger_xlsx, sheetname='Metrics', na_values=[' ',])\n",
    "gdf.dropna(how='all', inplace=True)\n",
    "gdf.reset_index(inplace=True, drop=True)\n",
    "\n",
    "# Check metrics are identical in each file\n",
    "print (ndf['Metric'] == gdf['Metric']).all()"
   ]
  }
 ],
 "metadata": {
  "kernelspec": {
   "display_name": "Python 2",
   "language": "python",
   "name": "python2"
  },
  "language_info": {
   "codemirror_mode": {
    "name": "ipython",
    "version": 2
   },
   "file_extension": ".py",
   "mimetype": "text/x-python",
   "name": "python",
   "nbconvert_exporter": "python",
   "pygments_lexer": "ipython2",
   "version": "2.7.10"
  }
 },
 "nbformat": 4,
 "nbformat_minor": 0
}
