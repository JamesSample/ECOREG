{
 "cells": [
  {
   "cell_type": "markdown",
   "metadata": {},
   "source": [
    "Statsmodels regularized linear regression (lasso)\n",
    "=================================================\n",
    "\n",
    "This notebook demonstrates how to fit a linear regression model using L1 regularization (the \"lasso\")."
   ]
  },
  {
   "cell_type": "code",
   "execution_count": 1,
   "metadata": {
    "collapsed": false
   },
   "outputs": [],
   "source": [
    "import pandas as pd\n",
    "import numpy as np\n",
    "import statsmodels.api as sm"
   ]
  },
  {
   "cell_type": "markdown",
   "metadata": {},
   "source": [
    "The data consist of measurements made on people sampled from a population that is at high risk for developing diabetes.  The data are here:\n",
    "\n",
    "http://vincentarelbundock.github.io/Rdatasets/csv/MASS/Pima.te.csv\n",
    "\n",
    "We will be regressing serum glucose on several factors that may influence it."
   ]
  },
  {
   "cell_type": "code",
   "execution_count": 2,
   "metadata": {
    "collapsed": false
   },
   "outputs": [
    {
     "name": "stdout",
     "output_type": "stream",
     "text": [
      "Index([u'Unnamed: 0', u'npreg', u'glu', u'bp', u'skin', u'bmi', u'ped', u'age',\n",
      "       u'type'],\n",
      "      dtype='object')\n"
     ]
    }
   ],
   "source": [
    "data = pd.read_csv(r\"C:\\Users\\JES\\Downloads\\Pima.te.csv\")\n",
    "print data.columns"
   ]
  },
  {
   "cell_type": "markdown",
   "metadata": {},
   "source": [
    "The glucose data are slightly right-skewed, so following convention, we log transform it."
   ]
  },
  {
   "cell_type": "code",
   "execution_count": 3,
   "metadata": {
    "collapsed": false
   },
   "outputs": [],
   "source": [
    "data[\"log_glu\"] = np.log(data[\"glu\"])"
   ]
  },
  {
   "cell_type": "markdown",
   "metadata": {},
   "source": [
    "Below we will be fitting models with interactions.  In general, it is easier to interpret the effects of an interaction if we center or standardize the components of the interaction before forming the product that defines the interaction.  The next cell standardizes all of the variables that will be used below."
   ]
  },
  {
   "cell_type": "code",
   "execution_count": 4,
   "metadata": {
    "collapsed": false
   },
   "outputs": [],
   "source": [
    "data[\"type\"] = 1.0*(data[\"type\"] == \"Yes\")\n",
    "\n",
    "for vname in \"type\", \"age\", \"bmi\", \"skin\", \"log_glu\", \"bp\":\n",
    "    data[vname] = (data[vname] - data[vname].mean()) / data[vname].std()"
   ]
  },
  {
   "cell_type": "markdown",
   "metadata": {},
   "source": [
    "In the previous cell, we standardized each individual variable.  We will also want to standardize the interaction products.  When using the lasso, it is more straightforward to standardize all variables (including the outcome variable).  This has two benefits.  First, it means we don't need to include an intercept term, which would need to be handled differently than the other variables in terms of penalization.  Second, it means that we can use the same penalty weight for all of the covariates.  The following cell creates all the interaction products and standardizes them."
   ]
  },
  {
   "cell_type": "code",
   "execution_count": 5,
   "metadata": {
    "collapsed": false
   },
   "outputs": [],
   "source": [
    "vnames = [\"age\", \"bmi\", \"skin\", \"bp\", \"type\"]\n",
    "\n",
    "for j1,v1 in enumerate(vnames):\n",
    "    for j2,v2 in enumerate(vnames[0:j1]):\n",
    "        x = data[v1] * data[v2]\n",
    "        x = (x - x.mean()) / x.std()\n",
    "        data[v1 + \"_x_\" + v2] = x"
   ]
  },
  {
   "cell_type": "markdown",
   "metadata": {},
   "source": [
    "We save the data, so we can compare to R below."
   ]
  },
  {
   "cell_type": "code",
   "execution_count": 6,
   "metadata": {
    "collapsed": false
   },
   "outputs": [],
   "source": [
    "data.to_csv(r\"C:\\Users\\JES\\Downloads\\dibetes.csv\", float_format=\"%.4f\")"
   ]
  },
  {
   "cell_type": "code",
   "execution_count": 11,
   "metadata": {
    "collapsed": false
   },
   "outputs": [
    {
     "data": {
      "text/html": [
       "<div>\n",
       "<table border=\"1\" class=\"dataframe\">\n",
       "  <thead>\n",
       "    <tr style=\"text-align: right;\">\n",
       "      <th></th>\n",
       "      <th>Unnamed: 0</th>\n",
       "      <th>npreg</th>\n",
       "      <th>glu</th>\n",
       "      <th>bp</th>\n",
       "      <th>skin</th>\n",
       "      <th>bmi</th>\n",
       "      <th>ped</th>\n",
       "      <th>age</th>\n",
       "      <th>type</th>\n",
       "      <th>log_glu</th>\n",
       "      <th>bmi_x_age</th>\n",
       "      <th>skin_x_age</th>\n",
       "      <th>skin_x_bmi</th>\n",
       "      <th>bp_x_age</th>\n",
       "      <th>bp_x_bmi</th>\n",
       "      <th>bp_x_skin</th>\n",
       "      <th>type_x_age</th>\n",
       "      <th>type_x_bmi</th>\n",
       "      <th>type_x_skin</th>\n",
       "      <th>type_x_bp</th>\n",
       "    </tr>\n",
       "  </thead>\n",
       "  <tbody>\n",
       "    <tr>\n",
       "      <th>0</th>\n",
       "      <td>1</td>\n",
       "      <td>6</td>\n",
       "      <td>148</td>\n",
       "      <td>0.027063</td>\n",
       "      <td>0.598821</td>\n",
       "      <td>0.049464</td>\n",
       "      <td>0.627</td>\n",
       "      <td>1.756613</td>\n",
       "      <td>1.428184</td>\n",
       "      <td>0.997441</td>\n",
       "      <td>0.041445</td>\n",
       "      <td>0.984336</td>\n",
       "      <td>-0.503841</td>\n",
       "      <td>-0.275623</td>\n",
       "      <td>-0.246785</td>\n",
       "      <td>-0.185181</td>\n",
       "      <td>2.255758</td>\n",
       "      <td>-0.240346</td>\n",
       "      <td>0.610473</td>\n",
       "      <td>-0.129963</td>\n",
       "    </tr>\n",
       "    <tr>\n",
       "      <th>1</th>\n",
       "      <td>2</td>\n",
       "      <td>1</td>\n",
       "      <td>85</td>\n",
       "      <td>-0.441713</td>\n",
       "      <td>-0.016685</td>\n",
       "      <td>-0.911691</td>\n",
       "      <td>0.351</td>\n",
       "      <td>-0.029735</td>\n",
       "      <td>-0.698081</td>\n",
       "      <td>-1.242068</td>\n",
       "      <td>-0.020959</td>\n",
       "      <td>-0.096419</td>\n",
       "      <td>-0.515420</td>\n",
       "      <td>-0.309936</td>\n",
       "      <td>0.048155</td>\n",
       "      <td>-0.193885</td>\n",
       "      <td>-0.264774</td>\n",
       "      <td>0.319062</td>\n",
       "      <td>-0.264886</td>\n",
       "      <td>0.136882</td>\n",
       "    </tr>\n",
       "    <tr>\n",
       "      <th>2</th>\n",
       "      <td>3</td>\n",
       "      <td>1</td>\n",
       "      <td>89</td>\n",
       "      <td>-0.441713</td>\n",
       "      <td>-0.632192</td>\n",
       "      <td>-0.705730</td>\n",
       "      <td>0.167</td>\n",
       "      <td>-0.969918</td>\n",
       "      <td>-0.698081</td>\n",
       "      <td>-1.056365</td>\n",
       "      <td>0.665293</td>\n",
       "      <td>0.533364</td>\n",
       "      <td>-0.169091</td>\n",
       "      <td>0.104247</td>\n",
       "      <td>-0.018698</td>\n",
       "      <td>0.073954</td>\n",
       "      <td>0.400129</td>\n",
       "      <td>0.176906</td>\n",
       "      <td>0.180974</td>\n",
       "      <td>0.136882</td>\n",
       "    </tr>\n",
       "    <tr>\n",
       "      <th>3</th>\n",
       "      <td>4</td>\n",
       "      <td>3</td>\n",
       "      <td>78</td>\n",
       "      <td>-1.691780</td>\n",
       "      <td>0.291068</td>\n",
       "      <td>-0.307537</td>\n",
       "      <td>0.248</td>\n",
       "      <td>-0.499826</td>\n",
       "      <td>1.428184</td>\n",
       "      <td>-1.589134</td>\n",
       "      <td>0.111205</td>\n",
       "      <td>-0.246474</td>\n",
       "      <td>-0.599583</td>\n",
       "      <td>0.520305</td>\n",
       "      <td>0.134557</td>\n",
       "      <td>-0.686256</td>\n",
       "      <td>-1.008978</td>\n",
       "      <td>-0.744456</td>\n",
       "      <td>0.154386</td>\n",
       "      <td>-2.558793</td>\n",
       "    </tr>\n",
       "    <tr>\n",
       "      <th>4</th>\n",
       "      <td>5</td>\n",
       "      <td>2</td>\n",
       "      <td>197</td>\n",
       "      <td>-0.129196</td>\n",
       "      <td>1.624666</td>\n",
       "      <td>-0.376191</td>\n",
       "      <td>0.158</td>\n",
       "      <td>2.038668</td>\n",
       "      <td>1.428184</td>\n",
       "      <td>2.152373</td>\n",
       "      <td>-0.849856</td>\n",
       "      <td>3.307694</td>\n",
       "      <td>-1.018825</td>\n",
       "      <td>-0.585720</td>\n",
       "      <td>-0.212054</td>\n",
       "      <td>-0.407929</td>\n",
       "      <td>2.663850</td>\n",
       "      <td>-0.841401</td>\n",
       "      <td>2.130760</td>\n",
       "      <td>-0.350765</td>\n",
       "    </tr>\n",
       "  </tbody>\n",
       "</table>\n",
       "</div>"
      ],
      "text/plain": [
       "   Unnamed: 0  npreg  glu        bp      skin       bmi    ped       age  \\\n",
       "0           1      6  148  0.027063  0.598821  0.049464  0.627  1.756613   \n",
       "1           2      1   85 -0.441713 -0.016685 -0.911691  0.351 -0.029735   \n",
       "2           3      1   89 -0.441713 -0.632192 -0.705730  0.167 -0.969918   \n",
       "3           4      3   78 -1.691780  0.291068 -0.307537  0.248 -0.499826   \n",
       "4           5      2  197 -0.129196  1.624666 -0.376191  0.158  2.038668   \n",
       "\n",
       "       type   log_glu  bmi_x_age  skin_x_age  skin_x_bmi  bp_x_age  bp_x_bmi  \\\n",
       "0  1.428184  0.997441   0.041445    0.984336   -0.503841 -0.275623 -0.246785   \n",
       "1 -0.698081 -1.242068  -0.020959   -0.096419   -0.515420 -0.309936  0.048155   \n",
       "2 -0.698081 -1.056365   0.665293    0.533364   -0.169091  0.104247 -0.018698   \n",
       "3  1.428184 -1.589134   0.111205   -0.246474   -0.599583  0.520305  0.134557   \n",
       "4  1.428184  2.152373  -0.849856    3.307694   -1.018825 -0.585720 -0.212054   \n",
       "\n",
       "   bp_x_skin  type_x_age  type_x_bmi  type_x_skin  type_x_bp  \n",
       "0  -0.185181    2.255758   -0.240346     0.610473  -0.129963  \n",
       "1  -0.193885   -0.264774    0.319062    -0.264886   0.136882  \n",
       "2   0.073954    0.400129    0.176906     0.180974   0.136882  \n",
       "3  -0.686256   -1.008978   -0.744456     0.154386  -2.558793  \n",
       "4  -0.407929    2.663850   -0.841401     2.130760  -0.350765  "
      ]
     },
     "execution_count": 11,
     "metadata": {},
     "output_type": "execute_result"
    }
   ],
   "source": [
    "data.head()"
   ]
  },
  {
   "cell_type": "markdown",
   "metadata": {},
   "source": [
    "We start with a big model that contains the main effects and all interactions with the `type` variable.  This model is fit using unregularized OLS."
   ]
  },
  {
   "cell_type": "code",
   "execution_count": 7,
   "metadata": {
    "collapsed": false
   },
   "outputs": [
    {
     "name": "stdout",
     "output_type": "stream",
     "text": [
      "Index([u'Unnamed: 0', u'npreg', u'glu', u'bp', u'skin', u'bmi', u'ped', u'age', u'type', u'log_glu', u'bmi_x_age', u'skin_x_age', u'skin_x_bmi', u'bp_x_age', u'bp_x_bmi', u'bp_x_skin', u'type_x_age', u'type_x_bmi', u'type_x_skin', u'type_x_bp'], dtype='object')\n",
      "                            OLS Regression Results                            \n",
      "==============================================================================\n",
      "Dep. Variable:                log_glu   R-squared:                       0.286\n",
      "Model:                            OLS   Adj. R-squared:                  0.266\n",
      "Method:                 Least Squares   F-statistic:                     14.39\n",
      "Date:                Mon, 08 Sep 2014   Prob (F-statistic):           1.43e-19\n",
      "Time:                        04:00:51   Log-Likelihood:                -414.61\n",
      "No. Observations:                 332   AIC:                             847.2\n",
      "Df Residuals:                     323   BIC:                             881.5\n",
      "Df Model:                           9                                         \n",
      "Covariance Type:            nonrobust                                         \n",
      "===============================================================================\n",
      "                  coef    std err          t      P>|t|      [95.0% Conf. Int.]\n",
      "-------------------------------------------------------------------------------\n",
      "bp              0.0597      0.053      1.125      0.261        -0.045     0.164\n",
      "skin            0.0508      0.064      0.789      0.431        -0.076     0.177\n",
      "age             0.0642      0.053      1.204      0.229        -0.041     0.169\n",
      "bmi             0.0725      0.068      1.073      0.284        -0.060     0.205\n",
      "type            0.4581      0.056      8.197      0.000         0.348     0.568\n",
      "type_x_bmi     -0.0097      0.065     -0.149      0.882        -0.137     0.118\n",
      "type_x_age     -0.0254      0.053     -0.474      0.636        -0.131     0.080\n",
      "type_x_skin    -0.0656      0.063     -1.048      0.295        -0.189     0.057\n",
      "type_x_bp       0.0160      0.053      0.302      0.763        -0.088     0.121\n",
      "==============================================================================\n",
      "Omnibus:                        5.838   Durbin-Watson:                   2.069\n",
      "Prob(Omnibus):                  0.054   Jarque-Bera (JB):                3.839\n",
      "Skew:                          -0.086   Prob(JB):                        0.147\n",
      "Kurtosis:                       2.502   Cond. No.                         2.82\n",
      "==============================================================================\n",
      "\n",
      "Warnings:\n",
      "[1] Standard Errors assume that the covariance matrix of the errors is correctly specified.\n"
     ]
    }
   ],
   "source": [
    "print data.columns\n",
    "fml = \"log_glu ~ 0 + bp + skin + age + bmi + type + type_x_bmi + type_x_age + type_x_skin + type_x_bp\"\n",
    "mod = sm.OLS.from_formula(fml, data)\n",
    "rslt = mod.fit()\n",
    "print rslt.summary()"
   ]
  },
  {
   "cell_type": "markdown",
   "metadata": {},
   "source": [
    "Next we fit a sequence of models using the lasso.  We collect the parameter estimates and display them as a table.  This is a crude way to obtain the \"solution path\".  In the near future, we will provide a function to do this for you."
   ]
  },
  {
   "cell_type": "code",
   "execution_count": 8,
   "metadata": {
    "collapsed": false
   },
   "outputs": [
    {
     "name": "stdout",
     "output_type": "stream",
     "text": [
      "                  0.0      0.05       0.1      0.15       0.2     0.25\n",
      "bp           0.059741  0.034172  0.009133  0.000000  0.000000  0.00000\n",
      "skin         0.050784  0.034924  0.010779  0.000000  0.000000  0.00000\n",
      "age          0.064180  0.046337  0.016808  0.000000  0.000000  0.00000\n",
      "bmi          0.072482  0.054131  0.037967  0.008797  0.000000  0.00000\n",
      "type         0.458066  0.410491  0.382537  0.350764  0.303381  0.25323\n",
      "type_x_bmi  -0.009687  0.000000  0.000000  0.000000  0.000000  0.00000\n",
      "type_x_age  -0.025357  0.000000  0.000000  0.000000  0.000000  0.00000\n",
      "type_x_skin -0.065568 -0.009761  0.000000  0.000000  0.000000  0.00000\n",
      "type_x_bp    0.016021  0.000000  0.000000  0.000000  0.000000  0.00000\n"
     ]
    }
   ],
   "source": [
    "mat = []\n",
    "alphas = np.arange(0, 0.26, 0.05)\n",
    "for alpha in alphas:\n",
    "    mod = sm.OLS.from_formula(fml, data)\n",
    "    rslt = mod.fit_regularized(alpha=alpha)\n",
    "    mat.append(rslt.params)\n",
    "mat = pd.DataFrame(mat, index=[str(x) for x in alphas])\n",
    "print mat.T"
   ]
  },
  {
   "cell_type": "markdown",
   "metadata": {},
   "source": [
    "Here is R code that performs the same analysis using the glmnet library:\n",
    "\n",
    "```\n",
    "library(glmnet)\n",
    "\n",
    "# The data set created above.\n",
    "data = read.csv(\"diabetes.csv\")\n",
    "\n",
    "x = cbind(data$bp, data$skin, data$age, data$bmi, data$type, data$type_x_bmi, data$type_x_age,\n",
    "    data$type_x_skin, data$type_x_bp)\n",
    "y = data$log_glu\n",
    "\n",
    "model = glmnet(x, y, lambda=c(0, 0.05, 0.1, 0.15, 0.2, 0.25))\n",
    "\n",
    "print(model$beta[,6])\n",
    "print(model$beta[,1])\n",
    "```\n",
    "\n",
    "The results below agree with what we obtained above for alpha=0 and alpha=0.25, respectively:\n",
    "\n",
    "```\n",
    "          V1           V2           V3           V4           V5           V6 \n",
    "0.059751856  0.050783199  0.064140463  0.072454663  0.458089343 -0.009592389 \n",
    "          V7           V8           V9 \n",
    "-0.025364554 -0.065635870  0.016002218 \n",
    "       V1        V2        V3        V4        V5        V6        V7        V8 \n",
    "0.0000000 0.0000000 0.0000000 0.0000000 0.2536029 0.0000000 0.0000000 0.0000000 \n",
    "       V9 \n",
    "0.0000000 \n",
    "```"
   ]
  }
 ],
 "metadata": {
  "kernelspec": {
   "display_name": "Python 2",
   "language": "python",
   "name": "python2"
  },
  "language_info": {
   "codemirror_mode": {
    "name": "ipython",
    "version": 2
   },
   "file_extension": ".py",
   "mimetype": "text/x-python",
   "name": "python",
   "nbconvert_exporter": "python",
   "pygments_lexer": "ipython2",
   "version": "2.7.10"
  }
 },
 "nbformat": 4,
 "nbformat_minor": 0
}
